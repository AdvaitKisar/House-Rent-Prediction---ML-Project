{
  "nbformat": 4,
  "nbformat_minor": 0,
  "metadata": {
    "colab": {
      "provenance": [],
      "authorship_tag": "ABX9TyOcQj61xmGxiWZ+miUiyvYP",
      "include_colab_link": true
    },
    "kernelspec": {
      "name": "python3",
      "display_name": "Python 3"
    },
    "language_info": {
      "name": "python"
    }
  },
  "cells": [
    {
      "cell_type": "markdown",
      "metadata": {
        "id": "view-in-github",
        "colab_type": "text"
      },
      "source": [
        "<a href=\"https://colab.research.google.com/github/AdvaitKisar/House-Rent-Prediction---ML-Project/blob/main/House_Rent_Prediction.ipynb\" target=\"_parent\"><img src=\"https://colab.research.google.com/assets/colab-badge.svg\" alt=\"Open In Colab\"/></a>"
      ]
    },
    {
      "cell_type": "markdown",
      "source": [
        "# **House Rent Prediction**"
      ],
      "metadata": {
        "id": "zZI1XBFR7AQ1"
      }
    },
    {
      "cell_type": "markdown",
      "source": [
        "## **Importing Libraries**"
      ],
      "metadata": {
        "id": "07QdfWq37elk"
      }
    },
    {
      "cell_type": "markdown",
      "source": [
        "We are importing several libraries and few functions for modelling the data using different models. As this is a regression problem, we will be trying four different models, namely, **Linear Regression, Random Forest, XGBoost** and **Neural Network**."
      ],
      "metadata": {
        "id": "R8ewOhJR76oW"
      }
    },
    {
      "cell_type": "code",
      "execution_count": 1,
      "metadata": {
        "id": "iqpHKqbKm6UL"
      },
      "outputs": [],
      "source": [
        "import numpy as np\n",
        "import pandas as pd\n",
        "from sklearn.linear_model import LinearRegression\n",
        "from sklearn.model_selection import train_test_split\n",
        "from sklearn.metrics import mean_squared_error, mean_absolute_error\n",
        "from sklearn.preprocessing import StandardScaler, MinMaxScaler , OneHotEncoder, LabelEncoder\n",
        "from sklearn.compose import ColumnTransformer, make_column_selector\n",
        "from sklearn.ensemble import RandomForestRegressor\n",
        "\n",
        "from xgboost.sklearn import XGBRegressor\n",
        "\n",
        "import seaborn as sns\n",
        "import io\n",
        "\n",
        "import matplotlib.pyplot as plt\n",
        "\n",
        "import tensorflow as tf\n",
        "from tensorflow.keras.layers import Dense, Input\n",
        "from tensorflow.keras import Sequential\n",
        "from tensorflow.keras.losses import MeanSquaredError\n",
        "from tensorflow.keras.activations import relu, linear"
      ]
    },
    {
      "cell_type": "markdown",
      "source": [
        "## **Loading the Dataset**"
      ],
      "metadata": {
        "id": "Q7J3SDxp9Yrg"
      }
    },
    {
      "cell_type": "markdown",
      "source": [
        "We are loading the dataset from a local host and the dataset file has been named 'House_Rent_Dataset.csv'."
      ],
      "metadata": {
        "id": "b8_dhb1d1NjG"
      }
    },
    {
      "cell_type": "code",
      "source": [
        "from google.colab import files\n",
        "uploaded = files.upload()"
      ],
      "metadata": {
        "colab": {
          "base_uri": "https://localhost:8080/",
          "height": 73
        },
        "id": "kfK4WmIc1OGf",
        "outputId": "ac99c430-7766-461b-e7c7-56b4a39e855f"
      },
      "execution_count": 2,
      "outputs": [
        {
          "output_type": "display_data",
          "data": {
            "text/plain": [
              "<IPython.core.display.HTML object>"
            ],
            "text/html": [
              "\n",
              "     <input type=\"file\" id=\"files-76883111-ded6-4400-9664-6f0c4c033265\" name=\"files[]\" multiple disabled\n",
              "        style=\"border:none\" />\n",
              "     <output id=\"result-76883111-ded6-4400-9664-6f0c4c033265\">\n",
              "      Upload widget is only available when the cell has been executed in the\n",
              "      current browser session. Please rerun this cell to enable.\n",
              "      </output>\n",
              "      <script>// Copyright 2017 Google LLC\n",
              "//\n",
              "// Licensed under the Apache License, Version 2.0 (the \"License\");\n",
              "// you may not use this file except in compliance with the License.\n",
              "// You may obtain a copy of the License at\n",
              "//\n",
              "//      http://www.apache.org/licenses/LICENSE-2.0\n",
              "//\n",
              "// Unless required by applicable law or agreed to in writing, software\n",
              "// distributed under the License is distributed on an \"AS IS\" BASIS,\n",
              "// WITHOUT WARRANTIES OR CONDITIONS OF ANY KIND, either express or implied.\n",
              "// See the License for the specific language governing permissions and\n",
              "// limitations under the License.\n",
              "\n",
              "/**\n",
              " * @fileoverview Helpers for google.colab Python module.\n",
              " */\n",
              "(function(scope) {\n",
              "function span(text, styleAttributes = {}) {\n",
              "  const element = document.createElement('span');\n",
              "  element.textContent = text;\n",
              "  for (const key of Object.keys(styleAttributes)) {\n",
              "    element.style[key] = styleAttributes[key];\n",
              "  }\n",
              "  return element;\n",
              "}\n",
              "\n",
              "// Max number of bytes which will be uploaded at a time.\n",
              "const MAX_PAYLOAD_SIZE = 100 * 1024;\n",
              "\n",
              "function _uploadFiles(inputId, outputId) {\n",
              "  const steps = uploadFilesStep(inputId, outputId);\n",
              "  const outputElement = document.getElementById(outputId);\n",
              "  // Cache steps on the outputElement to make it available for the next call\n",
              "  // to uploadFilesContinue from Python.\n",
              "  outputElement.steps = steps;\n",
              "\n",
              "  return _uploadFilesContinue(outputId);\n",
              "}\n",
              "\n",
              "// This is roughly an async generator (not supported in the browser yet),\n",
              "// where there are multiple asynchronous steps and the Python side is going\n",
              "// to poll for completion of each step.\n",
              "// This uses a Promise to block the python side on completion of each step,\n",
              "// then passes the result of the previous step as the input to the next step.\n",
              "function _uploadFilesContinue(outputId) {\n",
              "  const outputElement = document.getElementById(outputId);\n",
              "  const steps = outputElement.steps;\n",
              "\n",
              "  const next = steps.next(outputElement.lastPromiseValue);\n",
              "  return Promise.resolve(next.value.promise).then((value) => {\n",
              "    // Cache the last promise value to make it available to the next\n",
              "    // step of the generator.\n",
              "    outputElement.lastPromiseValue = value;\n",
              "    return next.value.response;\n",
              "  });\n",
              "}\n",
              "\n",
              "/**\n",
              " * Generator function which is called between each async step of the upload\n",
              " * process.\n",
              " * @param {string} inputId Element ID of the input file picker element.\n",
              " * @param {string} outputId Element ID of the output display.\n",
              " * @return {!Iterable<!Object>} Iterable of next steps.\n",
              " */\n",
              "function* uploadFilesStep(inputId, outputId) {\n",
              "  const inputElement = document.getElementById(inputId);\n",
              "  inputElement.disabled = false;\n",
              "\n",
              "  const outputElement = document.getElementById(outputId);\n",
              "  outputElement.innerHTML = '';\n",
              "\n",
              "  const pickedPromise = new Promise((resolve) => {\n",
              "    inputElement.addEventListener('change', (e) => {\n",
              "      resolve(e.target.files);\n",
              "    });\n",
              "  });\n",
              "\n",
              "  const cancel = document.createElement('button');\n",
              "  inputElement.parentElement.appendChild(cancel);\n",
              "  cancel.textContent = 'Cancel upload';\n",
              "  const cancelPromise = new Promise((resolve) => {\n",
              "    cancel.onclick = () => {\n",
              "      resolve(null);\n",
              "    };\n",
              "  });\n",
              "\n",
              "  // Wait for the user to pick the files.\n",
              "  const files = yield {\n",
              "    promise: Promise.race([pickedPromise, cancelPromise]),\n",
              "    response: {\n",
              "      action: 'starting',\n",
              "    }\n",
              "  };\n",
              "\n",
              "  cancel.remove();\n",
              "\n",
              "  // Disable the input element since further picks are not allowed.\n",
              "  inputElement.disabled = true;\n",
              "\n",
              "  if (!files) {\n",
              "    return {\n",
              "      response: {\n",
              "        action: 'complete',\n",
              "      }\n",
              "    };\n",
              "  }\n",
              "\n",
              "  for (const file of files) {\n",
              "    const li = document.createElement('li');\n",
              "    li.append(span(file.name, {fontWeight: 'bold'}));\n",
              "    li.append(span(\n",
              "        `(${file.type || 'n/a'}) - ${file.size} bytes, ` +\n",
              "        `last modified: ${\n",
              "            file.lastModifiedDate ? file.lastModifiedDate.toLocaleDateString() :\n",
              "                                    'n/a'} - `));\n",
              "    const percent = span('0% done');\n",
              "    li.appendChild(percent);\n",
              "\n",
              "    outputElement.appendChild(li);\n",
              "\n",
              "    const fileDataPromise = new Promise((resolve) => {\n",
              "      const reader = new FileReader();\n",
              "      reader.onload = (e) => {\n",
              "        resolve(e.target.result);\n",
              "      };\n",
              "      reader.readAsArrayBuffer(file);\n",
              "    });\n",
              "    // Wait for the data to be ready.\n",
              "    let fileData = yield {\n",
              "      promise: fileDataPromise,\n",
              "      response: {\n",
              "        action: 'continue',\n",
              "      }\n",
              "    };\n",
              "\n",
              "    // Use a chunked sending to avoid message size limits. See b/62115660.\n",
              "    let position = 0;\n",
              "    do {\n",
              "      const length = Math.min(fileData.byteLength - position, MAX_PAYLOAD_SIZE);\n",
              "      const chunk = new Uint8Array(fileData, position, length);\n",
              "      position += length;\n",
              "\n",
              "      const base64 = btoa(String.fromCharCode.apply(null, chunk));\n",
              "      yield {\n",
              "        response: {\n",
              "          action: 'append',\n",
              "          file: file.name,\n",
              "          data: base64,\n",
              "        },\n",
              "      };\n",
              "\n",
              "      let percentDone = fileData.byteLength === 0 ?\n",
              "          100 :\n",
              "          Math.round((position / fileData.byteLength) * 100);\n",
              "      percent.textContent = `${percentDone}% done`;\n",
              "\n",
              "    } while (position < fileData.byteLength);\n",
              "  }\n",
              "\n",
              "  // All done.\n",
              "  yield {\n",
              "    response: {\n",
              "      action: 'complete',\n",
              "    }\n",
              "  };\n",
              "}\n",
              "\n",
              "scope.google = scope.google || {};\n",
              "scope.google.colab = scope.google.colab || {};\n",
              "scope.google.colab._files = {\n",
              "  _uploadFiles,\n",
              "  _uploadFilesContinue,\n",
              "};\n",
              "})(self);\n",
              "</script> "
            ]
          },
          "metadata": {}
        },
        {
          "output_type": "stream",
          "name": "stdout",
          "text": [
            "Saving House_Rent_Dataset.csv to House_Rent_Dataset.csv\n"
          ]
        }
      ]
    },
    {
      "cell_type": "markdown",
      "source": [
        "The dataframe is read from the file uploaded in last step. We will display the head od the dataframe to get aware about the columns present."
      ],
      "metadata": {
        "id": "hTjFXJNG2LkW"
      }
    },
    {
      "cell_type": "code",
      "source": [
        "df = pd.read_csv(io.BytesIO(uploaded['House_Rent_Dataset.csv']))\n",
        "df.head()"
      ],
      "metadata": {
        "colab": {
          "base_uri": "https://localhost:8080/",
          "height": 206
        },
        "id": "QIP5c_4Y2MKQ",
        "outputId": "32fa9b95-9edd-4b44-ec7d-08aa33d43cb4"
      },
      "execution_count": 4,
      "outputs": [
        {
          "output_type": "execute_result",
          "data": {
            "text/plain": [
              "    Posted On  BHK   Rent  Size            Floor    Area Type  \\\n",
              "0  2022-05-18    2  10000  1100  Ground out of 2   Super Area   \n",
              "1  2022-05-13    2  20000   800       1 out of 3   Super Area   \n",
              "2  2022-05-16    2  17000  1000       1 out of 3   Super Area   \n",
              "3  2022-07-04    2  10000   800       1 out of 2   Super Area   \n",
              "4  2022-05-09    2   7500   850       1 out of 2  Carpet Area   \n",
              "\n",
              "              Area Locality     City Furnishing Status  Tenant Preferred  \\\n",
              "0                    Bandel  Kolkata       Unfurnished  Bachelors/Family   \n",
              "1  Phool Bagan, Kankurgachi  Kolkata    Semi-Furnished  Bachelors/Family   \n",
              "2   Salt Lake City Sector 2  Kolkata    Semi-Furnished  Bachelors/Family   \n",
              "3               Dumdum Park  Kolkata       Unfurnished  Bachelors/Family   \n",
              "4             South Dum Dum  Kolkata       Unfurnished         Bachelors   \n",
              "\n",
              "   Bathroom Point of Contact  \n",
              "0         2    Contact Owner  \n",
              "1         1    Contact Owner  \n",
              "2         1    Contact Owner  \n",
              "3         1    Contact Owner  \n",
              "4         1    Contact Owner  "
            ],
            "text/html": [
              "\n",
              "  <div id=\"df-072c8a9f-0111-4e3b-8c2c-a2b003da66ab\">\n",
              "    <div class=\"colab-df-container\">\n",
              "      <div>\n",
              "<style scoped>\n",
              "    .dataframe tbody tr th:only-of-type {\n",
              "        vertical-align: middle;\n",
              "    }\n",
              "\n",
              "    .dataframe tbody tr th {\n",
              "        vertical-align: top;\n",
              "    }\n",
              "\n",
              "    .dataframe thead th {\n",
              "        text-align: right;\n",
              "    }\n",
              "</style>\n",
              "<table border=\"1\" class=\"dataframe\">\n",
              "  <thead>\n",
              "    <tr style=\"text-align: right;\">\n",
              "      <th></th>\n",
              "      <th>Posted On</th>\n",
              "      <th>BHK</th>\n",
              "      <th>Rent</th>\n",
              "      <th>Size</th>\n",
              "      <th>Floor</th>\n",
              "      <th>Area Type</th>\n",
              "      <th>Area Locality</th>\n",
              "      <th>City</th>\n",
              "      <th>Furnishing Status</th>\n",
              "      <th>Tenant Preferred</th>\n",
              "      <th>Bathroom</th>\n",
              "      <th>Point of Contact</th>\n",
              "    </tr>\n",
              "  </thead>\n",
              "  <tbody>\n",
              "    <tr>\n",
              "      <th>0</th>\n",
              "      <td>2022-05-18</td>\n",
              "      <td>2</td>\n",
              "      <td>10000</td>\n",
              "      <td>1100</td>\n",
              "      <td>Ground out of 2</td>\n",
              "      <td>Super Area</td>\n",
              "      <td>Bandel</td>\n",
              "      <td>Kolkata</td>\n",
              "      <td>Unfurnished</td>\n",
              "      <td>Bachelors/Family</td>\n",
              "      <td>2</td>\n",
              "      <td>Contact Owner</td>\n",
              "    </tr>\n",
              "    <tr>\n",
              "      <th>1</th>\n",
              "      <td>2022-05-13</td>\n",
              "      <td>2</td>\n",
              "      <td>20000</td>\n",
              "      <td>800</td>\n",
              "      <td>1 out of 3</td>\n",
              "      <td>Super Area</td>\n",
              "      <td>Phool Bagan, Kankurgachi</td>\n",
              "      <td>Kolkata</td>\n",
              "      <td>Semi-Furnished</td>\n",
              "      <td>Bachelors/Family</td>\n",
              "      <td>1</td>\n",
              "      <td>Contact Owner</td>\n",
              "    </tr>\n",
              "    <tr>\n",
              "      <th>2</th>\n",
              "      <td>2022-05-16</td>\n",
              "      <td>2</td>\n",
              "      <td>17000</td>\n",
              "      <td>1000</td>\n",
              "      <td>1 out of 3</td>\n",
              "      <td>Super Area</td>\n",
              "      <td>Salt Lake City Sector 2</td>\n",
              "      <td>Kolkata</td>\n",
              "      <td>Semi-Furnished</td>\n",
              "      <td>Bachelors/Family</td>\n",
              "      <td>1</td>\n",
              "      <td>Contact Owner</td>\n",
              "    </tr>\n",
              "    <tr>\n",
              "      <th>3</th>\n",
              "      <td>2022-07-04</td>\n",
              "      <td>2</td>\n",
              "      <td>10000</td>\n",
              "      <td>800</td>\n",
              "      <td>1 out of 2</td>\n",
              "      <td>Super Area</td>\n",
              "      <td>Dumdum Park</td>\n",
              "      <td>Kolkata</td>\n",
              "      <td>Unfurnished</td>\n",
              "      <td>Bachelors/Family</td>\n",
              "      <td>1</td>\n",
              "      <td>Contact Owner</td>\n",
              "    </tr>\n",
              "    <tr>\n",
              "      <th>4</th>\n",
              "      <td>2022-05-09</td>\n",
              "      <td>2</td>\n",
              "      <td>7500</td>\n",
              "      <td>850</td>\n",
              "      <td>1 out of 2</td>\n",
              "      <td>Carpet Area</td>\n",
              "      <td>South Dum Dum</td>\n",
              "      <td>Kolkata</td>\n",
              "      <td>Unfurnished</td>\n",
              "      <td>Bachelors</td>\n",
              "      <td>1</td>\n",
              "      <td>Contact Owner</td>\n",
              "    </tr>\n",
              "  </tbody>\n",
              "</table>\n",
              "</div>\n",
              "      <button class=\"colab-df-convert\" onclick=\"convertToInteractive('df-072c8a9f-0111-4e3b-8c2c-a2b003da66ab')\"\n",
              "              title=\"Convert this dataframe to an interactive table.\"\n",
              "              style=\"display:none;\">\n",
              "        \n",
              "  <svg xmlns=\"http://www.w3.org/2000/svg\" height=\"24px\"viewBox=\"0 0 24 24\"\n",
              "       width=\"24px\">\n",
              "    <path d=\"M0 0h24v24H0V0z\" fill=\"none\"/>\n",
              "    <path d=\"M18.56 5.44l.94 2.06.94-2.06 2.06-.94-2.06-.94-.94-2.06-.94 2.06-2.06.94zm-11 1L8.5 8.5l.94-2.06 2.06-.94-2.06-.94L8.5 2.5l-.94 2.06-2.06.94zm10 10l.94 2.06.94-2.06 2.06-.94-2.06-.94-.94-2.06-.94 2.06-2.06.94z\"/><path d=\"M17.41 7.96l-1.37-1.37c-.4-.4-.92-.59-1.43-.59-.52 0-1.04.2-1.43.59L10.3 9.45l-7.72 7.72c-.78.78-.78 2.05 0 2.83L4 21.41c.39.39.9.59 1.41.59.51 0 1.02-.2 1.41-.59l7.78-7.78 2.81-2.81c.8-.78.8-2.07 0-2.86zM5.41 20L4 18.59l7.72-7.72 1.47 1.35L5.41 20z\"/>\n",
              "  </svg>\n",
              "      </button>\n",
              "      \n",
              "  <style>\n",
              "    .colab-df-container {\n",
              "      display:flex;\n",
              "      flex-wrap:wrap;\n",
              "      gap: 12px;\n",
              "    }\n",
              "\n",
              "    .colab-df-convert {\n",
              "      background-color: #E8F0FE;\n",
              "      border: none;\n",
              "      border-radius: 50%;\n",
              "      cursor: pointer;\n",
              "      display: none;\n",
              "      fill: #1967D2;\n",
              "      height: 32px;\n",
              "      padding: 0 0 0 0;\n",
              "      width: 32px;\n",
              "    }\n",
              "\n",
              "    .colab-df-convert:hover {\n",
              "      background-color: #E2EBFA;\n",
              "      box-shadow: 0px 1px 2px rgba(60, 64, 67, 0.3), 0px 1px 3px 1px rgba(60, 64, 67, 0.15);\n",
              "      fill: #174EA6;\n",
              "    }\n",
              "\n",
              "    [theme=dark] .colab-df-convert {\n",
              "      background-color: #3B4455;\n",
              "      fill: #D2E3FC;\n",
              "    }\n",
              "\n",
              "    [theme=dark] .colab-df-convert:hover {\n",
              "      background-color: #434B5C;\n",
              "      box-shadow: 0px 1px 3px 1px rgba(0, 0, 0, 0.15);\n",
              "      filter: drop-shadow(0px 1px 2px rgba(0, 0, 0, 0.3));\n",
              "      fill: #FFFFFF;\n",
              "    }\n",
              "  </style>\n",
              "\n",
              "      <script>\n",
              "        const buttonEl =\n",
              "          document.querySelector('#df-072c8a9f-0111-4e3b-8c2c-a2b003da66ab button.colab-df-convert');\n",
              "        buttonEl.style.display =\n",
              "          google.colab.kernel.accessAllowed ? 'block' : 'none';\n",
              "\n",
              "        async function convertToInteractive(key) {\n",
              "          const element = document.querySelector('#df-072c8a9f-0111-4e3b-8c2c-a2b003da66ab');\n",
              "          const dataTable =\n",
              "            await google.colab.kernel.invokeFunction('convertToInteractive',\n",
              "                                                     [key], {});\n",
              "          if (!dataTable) return;\n",
              "\n",
              "          const docLinkHtml = 'Like what you see? Visit the ' +\n",
              "            '<a target=\"_blank\" href=https://colab.research.google.com/notebooks/data_table.ipynb>data table notebook</a>'\n",
              "            + ' to learn more about interactive tables.';\n",
              "          element.innerHTML = '';\n",
              "          dataTable['output_type'] = 'display_data';\n",
              "          await google.colab.output.renderOutput(dataTable, element);\n",
              "          const docLink = document.createElement('div');\n",
              "          docLink.innerHTML = docLinkHtml;\n",
              "          element.appendChild(docLink);\n",
              "        }\n",
              "      </script>\n",
              "    </div>\n",
              "  </div>\n",
              "  "
            ]
          },
          "metadata": {},
          "execution_count": 4
        }
      ]
    },
    {
      "cell_type": "markdown",
      "source": [
        "We will drop the 'Area Locality' column as it is not useful in modelling as this column has a lot many unique values."
      ],
      "metadata": {
        "id": "9fE56OSQ86x7"
      }
    },
    {
      "cell_type": "code",
      "source": [
        "df = df.drop(['Area Locality'], axis=1)"
      ],
      "metadata": {
        "id": "bc1WX1SGLVjz"
      },
      "execution_count": 5,
      "outputs": []
    },
    {
      "cell_type": "markdown",
      "source": [
        "## **Cleaning and Visualizing Data**"
      ],
      "metadata": {
        "id": "SzAv_FS__XN5"
      }
    },
    {
      "cell_type": "markdown",
      "source": [
        "We will check for any missing data in the dataset and will correct it, if it's missing. In below setp, we checked the count of null enties in each column"
      ],
      "metadata": {
        "id": "O76ZZF7j_CK2"
      }
    },
    {
      "cell_type": "code",
      "source": [
        "df.isnull().sum()"
      ],
      "metadata": {
        "colab": {
          "base_uri": "https://localhost:8080/"
        },
        "id": "WI-VxUyg5nMp",
        "outputId": "4bb8e81e-957d-4e79-ac98-f15ae3cabeb9"
      },
      "execution_count": 13,
      "outputs": [
        {
          "output_type": "execute_result",
          "data": {
            "text/plain": [
              "Posted On            0\n",
              "BHK                  0\n",
              "Rent                 0\n",
              "Size                 0\n",
              "Floor                0\n",
              "Area Type            0\n",
              "City                 0\n",
              "Furnishing Status    0\n",
              "Tenant Preferred     0\n",
              "Bathroom             0\n",
              "Point of Contact     0\n",
              "dtype: int64"
            ]
          },
          "metadata": {},
          "execution_count": 13
        }
      ]
    },
    {
      "cell_type": "markdown",
      "source": [
        "The next step describes the data in a statistical manner and gives us an overview of the data.\n",
        "It can be observed that the mean rent is about Rs. 34993.45 with a size of 967.49 sq.ft."
      ],
      "metadata": {
        "id": "IvpZCYjm9Npb"
      }
    },
    {
      "cell_type": "code",
      "source": [
        "df.describe()"
      ],
      "metadata": {
        "colab": {
          "base_uri": "https://localhost:8080/",
          "height": 300
        },
        "id": "K7Nogg1bsVj_",
        "outputId": "19554038-358c-43fe-c155-5c9f0e1688db"
      },
      "execution_count": 14,
      "outputs": [
        {
          "output_type": "execute_result",
          "data": {
            "text/plain": [
              "               BHK          Rent         Size     Bathroom\n",
              "count  4746.000000  4.746000e+03  4746.000000  4746.000000\n",
              "mean      2.083860  3.499345e+04   967.490729     1.965866\n",
              "std       0.832256  7.810641e+04   634.202328     0.884532\n",
              "min       1.000000  1.200000e+03    10.000000     1.000000\n",
              "25%       2.000000  1.000000e+04   550.000000     1.000000\n",
              "50%       2.000000  1.600000e+04   850.000000     2.000000\n",
              "75%       3.000000  3.300000e+04  1200.000000     2.000000\n",
              "max       6.000000  3.500000e+06  8000.000000    10.000000"
            ],
            "text/html": [
              "\n",
              "  <div id=\"df-f68da5ec-de15-439c-ab53-51cfae310fce\">\n",
              "    <div class=\"colab-df-container\">\n",
              "      <div>\n",
              "<style scoped>\n",
              "    .dataframe tbody tr th:only-of-type {\n",
              "        vertical-align: middle;\n",
              "    }\n",
              "\n",
              "    .dataframe tbody tr th {\n",
              "        vertical-align: top;\n",
              "    }\n",
              "\n",
              "    .dataframe thead th {\n",
              "        text-align: right;\n",
              "    }\n",
              "</style>\n",
              "<table border=\"1\" class=\"dataframe\">\n",
              "  <thead>\n",
              "    <tr style=\"text-align: right;\">\n",
              "      <th></th>\n",
              "      <th>BHK</th>\n",
              "      <th>Rent</th>\n",
              "      <th>Size</th>\n",
              "      <th>Bathroom</th>\n",
              "    </tr>\n",
              "  </thead>\n",
              "  <tbody>\n",
              "    <tr>\n",
              "      <th>count</th>\n",
              "      <td>4746.000000</td>\n",
              "      <td>4.746000e+03</td>\n",
              "      <td>4746.000000</td>\n",
              "      <td>4746.000000</td>\n",
              "    </tr>\n",
              "    <tr>\n",
              "      <th>mean</th>\n",
              "      <td>2.083860</td>\n",
              "      <td>3.499345e+04</td>\n",
              "      <td>967.490729</td>\n",
              "      <td>1.965866</td>\n",
              "    </tr>\n",
              "    <tr>\n",
              "      <th>std</th>\n",
              "      <td>0.832256</td>\n",
              "      <td>7.810641e+04</td>\n",
              "      <td>634.202328</td>\n",
              "      <td>0.884532</td>\n",
              "    </tr>\n",
              "    <tr>\n",
              "      <th>min</th>\n",
              "      <td>1.000000</td>\n",
              "      <td>1.200000e+03</td>\n",
              "      <td>10.000000</td>\n",
              "      <td>1.000000</td>\n",
              "    </tr>\n",
              "    <tr>\n",
              "      <th>25%</th>\n",
              "      <td>2.000000</td>\n",
              "      <td>1.000000e+04</td>\n",
              "      <td>550.000000</td>\n",
              "      <td>1.000000</td>\n",
              "    </tr>\n",
              "    <tr>\n",
              "      <th>50%</th>\n",
              "      <td>2.000000</td>\n",
              "      <td>1.600000e+04</td>\n",
              "      <td>850.000000</td>\n",
              "      <td>2.000000</td>\n",
              "    </tr>\n",
              "    <tr>\n",
              "      <th>75%</th>\n",
              "      <td>3.000000</td>\n",
              "      <td>3.300000e+04</td>\n",
              "      <td>1200.000000</td>\n",
              "      <td>2.000000</td>\n",
              "    </tr>\n",
              "    <tr>\n",
              "      <th>max</th>\n",
              "      <td>6.000000</td>\n",
              "      <td>3.500000e+06</td>\n",
              "      <td>8000.000000</td>\n",
              "      <td>10.000000</td>\n",
              "    </tr>\n",
              "  </tbody>\n",
              "</table>\n",
              "</div>\n",
              "      <button class=\"colab-df-convert\" onclick=\"convertToInteractive('df-f68da5ec-de15-439c-ab53-51cfae310fce')\"\n",
              "              title=\"Convert this dataframe to an interactive table.\"\n",
              "              style=\"display:none;\">\n",
              "        \n",
              "  <svg xmlns=\"http://www.w3.org/2000/svg\" height=\"24px\"viewBox=\"0 0 24 24\"\n",
              "       width=\"24px\">\n",
              "    <path d=\"M0 0h24v24H0V0z\" fill=\"none\"/>\n",
              "    <path d=\"M18.56 5.44l.94 2.06.94-2.06 2.06-.94-2.06-.94-.94-2.06-.94 2.06-2.06.94zm-11 1L8.5 8.5l.94-2.06 2.06-.94-2.06-.94L8.5 2.5l-.94 2.06-2.06.94zm10 10l.94 2.06.94-2.06 2.06-.94-2.06-.94-.94-2.06-.94 2.06-2.06.94z\"/><path d=\"M17.41 7.96l-1.37-1.37c-.4-.4-.92-.59-1.43-.59-.52 0-1.04.2-1.43.59L10.3 9.45l-7.72 7.72c-.78.78-.78 2.05 0 2.83L4 21.41c.39.39.9.59 1.41.59.51 0 1.02-.2 1.41-.59l7.78-7.78 2.81-2.81c.8-.78.8-2.07 0-2.86zM5.41 20L4 18.59l7.72-7.72 1.47 1.35L5.41 20z\"/>\n",
              "  </svg>\n",
              "      </button>\n",
              "      \n",
              "  <style>\n",
              "    .colab-df-container {\n",
              "      display:flex;\n",
              "      flex-wrap:wrap;\n",
              "      gap: 12px;\n",
              "    }\n",
              "\n",
              "    .colab-df-convert {\n",
              "      background-color: #E8F0FE;\n",
              "      border: none;\n",
              "      border-radius: 50%;\n",
              "      cursor: pointer;\n",
              "      display: none;\n",
              "      fill: #1967D2;\n",
              "      height: 32px;\n",
              "      padding: 0 0 0 0;\n",
              "      width: 32px;\n",
              "    }\n",
              "\n",
              "    .colab-df-convert:hover {\n",
              "      background-color: #E2EBFA;\n",
              "      box-shadow: 0px 1px 2px rgba(60, 64, 67, 0.3), 0px 1px 3px 1px rgba(60, 64, 67, 0.15);\n",
              "      fill: #174EA6;\n",
              "    }\n",
              "\n",
              "    [theme=dark] .colab-df-convert {\n",
              "      background-color: #3B4455;\n",
              "      fill: #D2E3FC;\n",
              "    }\n",
              "\n",
              "    [theme=dark] .colab-df-convert:hover {\n",
              "      background-color: #434B5C;\n",
              "      box-shadow: 0px 1px 3px 1px rgba(0, 0, 0, 0.15);\n",
              "      filter: drop-shadow(0px 1px 2px rgba(0, 0, 0, 0.3));\n",
              "      fill: #FFFFFF;\n",
              "    }\n",
              "  </style>\n",
              "\n",
              "      <script>\n",
              "        const buttonEl =\n",
              "          document.querySelector('#df-f68da5ec-de15-439c-ab53-51cfae310fce button.colab-df-convert');\n",
              "        buttonEl.style.display =\n",
              "          google.colab.kernel.accessAllowed ? 'block' : 'none';\n",
              "\n",
              "        async function convertToInteractive(key) {\n",
              "          const element = document.querySelector('#df-f68da5ec-de15-439c-ab53-51cfae310fce');\n",
              "          const dataTable =\n",
              "            await google.colab.kernel.invokeFunction('convertToInteractive',\n",
              "                                                     [key], {});\n",
              "          if (!dataTable) return;\n",
              "\n",
              "          const docLinkHtml = 'Like what you see? Visit the ' +\n",
              "            '<a target=\"_blank\" href=https://colab.research.google.com/notebooks/data_table.ipynb>data table notebook</a>'\n",
              "            + ' to learn more about interactive tables.';\n",
              "          element.innerHTML = '';\n",
              "          dataTable['output_type'] = 'display_data';\n",
              "          await google.colab.output.renderOutput(dataTable, element);\n",
              "          const docLink = document.createElement('div');\n",
              "          docLink.innerHTML = docLinkHtml;\n",
              "          element.appendChild(docLink);\n",
              "        }\n",
              "      </script>\n",
              "    </div>\n",
              "  </div>\n",
              "  "
            ]
          },
          "metadata": {},
          "execution_count": 14
        }
      ]
    },
    {
      "cell_type": "markdown",
      "source": [
        "In the below step, we have plotted a bar graph for House Rent in different Indian Cities based on Tenant Preferred. As per the plot, Bangalore, Delhi, Chennai and Kolkata have highest rents for Bachelor Tenants, whereas Hyderabad has highest rent for Family and Mumbai has higher rent for those properties, where this no particular preference."
      ],
      "metadata": {
        "id": "zANK2PZJ_v1P"
      }
    },
    {
      "cell_type": "code",
      "source": [
        "sns.barplot(x=df['City'], y=df['Rent'], hue=df['Tenant Preferred'], ci=None)\n",
        "plt.ylabel(\"Rent (in Rs.)\")\n",
        "plt.title('Rents in Indian Cities as per Tenant Preferred')"
      ],
      "metadata": {
        "colab": {
          "base_uri": "https://localhost:8080/",
          "height": 399
        },
        "id": "EKdizAZl11-N",
        "outputId": "8bc919a1-fee3-4736-88bc-377430362356"
      },
      "execution_count": 15,
      "outputs": [
        {
          "output_type": "stream",
          "name": "stderr",
          "text": [
            "<ipython-input-15-e3e7a7c7d036>:1: FutureWarning: \n",
            "\n",
            "The `ci` parameter is deprecated. Use `errorbar=None` for the same effect.\n",
            "\n",
            "  sns.barplot(x=df['City'], y=df['Rent'], hue=df['Tenant Preferred'], ci=None)\n"
          ]
        },
        {
          "output_type": "execute_result",
          "data": {
            "text/plain": [
              "Text(0.5, 1.0, 'Rents in Indian Cities as per Tenant Preferred')"
            ]
          },
          "metadata": {},
          "execution_count": 15
        },
        {
          "output_type": "display_data",
          "data": {
            "text/plain": [
              "<Figure size 432x288 with 1 Axes>"
            ],
            "image/png": "[encoded data removed]"
          },
          "metadata": {
            "needs_background": "light"
          }
        }
      ]
    },
    {
      "cell_type": "markdown",
      "source": [
        "In the below step, we have plotted a bar graph for House Rent in different Indian Cities based on BHK. As per the plot, almost all cities have an increasing trend of rent with BHK."
      ],
      "metadata": {
        "id": "bZKts3hHBK4I"
      }
    },
    {
      "cell_type": "code",
      "source": [
        "sns.barplot(x=df['City'], y=df['Rent'], hue=df['BHK'], ci=None)\n",
        "plt.ylabel(\"Rent (in Rs.)\")\n",
        "plt.title('Rents in Indian Cities as per BHK')"
      ],
      "metadata": {
        "colab": {
          "base_uri": "https://localhost:8080/",
          "height": 399
        },
        "id": "4yBowd3ItDQl",
        "outputId": "262b58f6-c812-444d-8889-401308ffbae1"
      },
      "execution_count": 16,
      "outputs": [
        {
          "output_type": "stream",
          "name": "stderr",
          "text": [
            "<ipython-input-16-79082041c90f>:1: FutureWarning: \n",
            "\n",
            "The `ci` parameter is deprecated. Use `errorbar=None` for the same effect.\n",
            "\n",
            "  sns.barplot(x=df['City'], y=df['Rent'], hue=df['BHK'], ci=None)\n"
          ]
        },
        {
          "output_type": "execute_result",
          "data": {
            "text/plain": [
              "Text(0.5, 1.0, 'Rents in Indian Cities as per BHK')"
            ]
          },
          "metadata": {},
          "execution_count": 16
        },
        {
          "output_type": "display_data",
          "data": {
            "text/plain": [
              "<Figure size 432x288 with 1 Axes>"
            ],
            "image/png": "[encoded data removed]"
          },
          "metadata": {
            "needs_background": "light"
          }
        }
      ]
    },
    {
      "cell_type": "markdown",
      "source": [
        "In the below step, we have plotted a bar graph for House Rent in different Indian Cities based on Furnishing Status. As per the plot, all cities have lowest rent for unfurnished houses followed by semi-furnished and highest for furnished."
      ],
      "metadata": {
        "id": "osqkbchDCAFF"
      }
    },
    {
      "cell_type": "code",
      "source": [
        "sns.barplot(x=df['City'], y=df['Rent'], hue=df['Furnishing Status'], ci=None)\n",
        "plt.ylabel(\"Rent (in Rs.)\")\n",
        "plt.title('Rents in Indian Cities as per Furnishing Status')"
      ],
      "metadata": {
        "colab": {
          "base_uri": "https://localhost:8080/",
          "height": 399
        },
        "id": "5ypPZBp96WUq",
        "outputId": "0a1c6b0d-a8ab-4bc8-b70f-34bc1caa95fa"
      },
      "execution_count": 17,
      "outputs": [
        {
          "output_type": "stream",
          "name": "stderr",
          "text": [
            "<ipython-input-17-f5e1b30d0189>:1: FutureWarning: \n",
            "\n",
            "The `ci` parameter is deprecated. Use `errorbar=None` for the same effect.\n",
            "\n",
            "  sns.barplot(x=df['City'], y=df['Rent'], hue=df['Furnishing Status'], ci=None)\n"
          ]
        },
        {
          "output_type": "execute_result",
          "data": {
            "text/plain": [
              "Text(0.5, 1.0, 'Rents in Indian Cities as per Furnishing Status')"
            ]
          },
          "metadata": {},
          "execution_count": 17
        },
        {
          "output_type": "display_data",
          "data": {
            "text/plain": [
              "<Figure size 432x288 with 1 Axes>"
            ],
            "image/png": "[encoded data removed]"
          },
          "metadata": {
            "needs_background": "light"
          }
        }
      ]
    },
    {
      "cell_type": "markdown",
      "source": [
        "In the below step, we have plotted a bar graph for House Rent in different Indian Cities based on Area Type. As per the plot, all cities have lowest rent for built area followed by super area and highest for carpet area."
      ],
      "metadata": {
        "id": "Od6tU6lsCWWp"
      }
    },
    {
      "cell_type": "code",
      "source": [
        "sns.barplot(x=df['City'], y=df['Rent'], hue=df['Area Type'], ci=None)\n",
        "plt.ylabel(\"Rent (in Rs.)\")\n",
        "plt.title('Rents in Indian Cities as per Area Type')"
      ],
      "metadata": {
        "colab": {
          "base_uri": "https://localhost:8080/",
          "height": 399
        },
        "id": "9_7gesU21pr6",
        "outputId": "99dd2b79-4f8e-48ff-d544-2135c1248b6f"
      },
      "execution_count": 18,
      "outputs": [
        {
          "output_type": "stream",
          "name": "stderr",
          "text": [
            "<ipython-input-18-13a33410d00f>:1: FutureWarning: \n",
            "\n",
            "The `ci` parameter is deprecated. Use `errorbar=None` for the same effect.\n",
            "\n",
            "  sns.barplot(x=df['City'], y=df['Rent'], hue=df['Area Type'], ci=None)\n"
          ]
        },
        {
          "output_type": "execute_result",
          "data": {
            "text/plain": [
              "Text(0.5, 1.0, 'Rents in Indian Cities as per Area Type')"
            ]
          },
          "metadata": {},
          "execution_count": 18
        },
        {
          "output_type": "display_data",
          "data": {
            "text/plain": [
              "<Figure size 432x288 with 1 Axes>"
            ],
            "image/png": "[encoded data removed]"
          },
          "metadata": {
            "needs_background": "light"
          }
        }
      ]
    },
    {
      "cell_type": "markdown",
      "source": [
        "## **Data Pre-processing**"
      ],
      "metadata": {
        "id": "otiDq0Da3gcX"
      }
    },
    {
      "cell_type": "markdown",
      "source": [
        "Firstly, we will setup the *ColumnTransfer*, which combines the job of *LabelEncodder* and *OneHotEncoder*, so that we can convert the categorical data we have into features, which can be processed by the models built later easily, to generate insights."
      ],
      "metadata": {
        "id": "Nj3bWHWDC_L_"
      }
    },
    {
      "cell_type": "code",
      "source": [
        "oh = OneHotEncoder(drop = 'first', handle_unknown = 'ignore')\n",
        "\n",
        "ms, ss = MinMaxScaler(), StandardScaler()\n",
        "\n",
        "ct = ColumnTransformer([\n",
        "    ('cat_encoder', oh, make_column_selector(dtype_include = 'object')),\n",
        "    ('num_encoder', ms, make_column_selector(dtype_include = 'float64'))\n",
        "], remainder = 'passthrough', n_jobs = -1)"
      ],
      "metadata": {
        "id": "P5fzYRtWNO3N"
      },
      "execution_count": 19,
      "outputs": []
    },
    {
      "cell_type": "markdown",
      "source": [
        "We will split the data in *X* and *Y*. The test size is 20% of the entire data, which would be chosen randomly. Further, as *Y* is a 1D numpy array, it is reshaped as a 2D array for simplifying the steps later. The size of the dataset is 4746 examples."
      ],
      "metadata": {
        "id": "d15Ivs_sEmxO"
      }
    },
    {
      "cell_type": "code",
      "source": [
        "X = df.drop(['Rent'], axis=1)\n",
        "Y = df['Rent']\n",
        "\n",
        "X_train, X_test, Y_train, Y_test = train_test_split(X, Y, test_size=0.2, random_state=0)\n",
        "\n",
        "Y_train = Y_train.values.reshape(-1,1)\n",
        "Y_test = Y_test.values.reshape(-1,1)\n",
        "print(X_train.shape)\n",
        "print(X_test.shape)\n",
        "print(Y_train.shape)\n",
        "print(Y_test.shape)"
      ],
      "metadata": {
        "colab": {
          "base_uri": "https://localhost:8080/"
        },
        "id": "CqmAWUKs3iQe",
        "outputId": "7791b8c4-8b07-4e43-a164-895b1e0d260a"
      },
      "execution_count": 20,
      "outputs": [
        {
          "output_type": "stream",
          "name": "stdout",
          "text": [
            "(3796, 10)\n",
            "(950, 10)\n",
            "(3796, 1)\n",
            "(950, 1)\n"
          ]
        }
      ]
    },
    {
      "cell_type": "markdown",
      "source": [
        "We will transform the columns of the data using the *ColumnTransform* function built earlier."
      ],
      "metadata": {
        "id": "74YtoV2dFMne"
      }
    },
    {
      "cell_type": "code",
      "source": [
        "X_train = ct.fit_transform(X_train)\n",
        "X_test = ct.transform(X_test)\n",
        "print(X_train.shape)\n",
        "print(X_test.shape)"
      ],
      "metadata": {
        "id": "at0lMb3fOMyp",
        "colab": {
          "base_uri": "https://localhost:8080/"
        },
        "outputId": "fa756e76-75de-4dbc-a957-11f7724faf9a"
      },
      "execution_count": 21,
      "outputs": [
        {
          "output_type": "stream",
          "name": "stdout",
          "text": [
            "(3796, 514)\n",
            "(950, 514)\n"
          ]
        }
      ]
    },
    {
      "cell_type": "markdown",
      "source": [
        "## **Modelling Data**"
      ],
      "metadata": {
        "id": "gZDC8T5V4OD6"
      }
    },
    {
      "cell_type": "markdown",
      "source": [
        "### **Linear Regression**"
      ],
      "metadata": {
        "id": "_9m7uDVYFp1v"
      }
    },
    {
      "cell_type": "markdown",
      "source": [
        "In this model, we will use scikit-learn to model the data using **Linear** **Regression**. In this step, we are defining the *LinearRegression()* model and then fitting it to the training set."
      ],
      "metadata": {
        "id": "zWR63ggvFzSP"
      }
    },
    {
      "cell_type": "code",
      "source": [
        "lin_model = LinearRegression()\n",
        "lin_model.fit(X_train, Y_train)"
      ],
      "metadata": {
        "colab": {
          "base_uri": "https://localhost:8080/",
          "height": 75
        },
        "id": "8IWOnMtn4OcY",
        "outputId": "520ec9a8-2995-49c8-df3c-00a869b33613"
      },
      "execution_count": 22,
      "outputs": [
        {
          "output_type": "execute_result",
          "data": {
            "text/plain": [
              "LinearRegression()"
            ],
            "text/html": [
              "<style>#sk-container-id-2 {color: black;background-color: white;}#sk-container-id-2 pre{padding: 0;}#sk-container-id-2 div.sk-toggleable {background-color: white;}#sk-container-id-2 label.sk-toggleable__label {cursor: pointer;display: block;width: 100%;margin-bottom: 0;padding: 0.3em;box-sizing: border-box;text-align: center;}#sk-container-id-2 label.sk-toggleable__label-arrow:before {content: \"▸\";float: left;margin-right: 0.25em;color: #696969;}#sk-container-id-2 label.sk-toggleable__label-arrow:hover:before {color: black;}#sk-container-id-2 div.sk-estimator:hover label.sk-toggleable__label-arrow:before {color: black;}#sk-container-id-2 div.sk-toggleable__content {max-height: 0;max-width: 0;overflow: hidden;text-align: left;background-color: #f0f8ff;}#sk-container-id-2 div.sk-toggleable__content pre {margin: 0.2em;color: black;border-radius: 0.25em;background-color: #f0f8ff;}#sk-container-id-2 input.sk-toggleable__control:checked~div.sk-toggleable__content {max-height: 200px;max-width: 100%;overflow: auto;}#sk-container-id-2 input.sk-toggleable__control:checked~label.sk-toggleable__label-arrow:before {content: \"▾\";}#sk-container-id-2 div.sk-estimator input.sk-toggleable__control:checked~label.sk-toggleable__label {background-color: #d4ebff;}#sk-container-id-2 div.sk-label input.sk-toggleable__control:checked~label.sk-toggleable__label {background-color: #d4ebff;}#sk-container-id-2 input.sk-hidden--visually {border: 0;clip: rect(1px 1px 1px 1px);clip: rect(1px, 1px, 1px, 1px);height: 1px;margin: -1px;overflow: hidden;padding: 0;position: absolute;width: 1px;}#sk-container-id-2 div.sk-estimator {font-family: monospace;background-color: #f0f8ff;border: 1px dotted black;border-radius: 0.25em;box-sizing: border-box;margin-bottom: 0.5em;}#sk-container-id-2 div.sk-estimator:hover {background-color: #d4ebff;}#sk-container-id-2 div.sk-parallel-item::after {content: \"\";width: 100%;border-bottom: 1px solid gray;flex-grow: 1;}#sk-container-id-2 div.sk-label:hover label.sk-toggleable__label {background-color: #d4ebff;}#sk-container-id-2 div.sk-serial::before {content: \"\";position: absolute;border-left: 1px solid gray;box-sizing: border-box;top: 0;bottom: 0;left: 50%;z-index: 0;}#sk-container-id-2 div.sk-serial {display: flex;flex-direction: column;align-items: center;background-color: white;padding-right: 0.2em;padding-left: 0.2em;position: relative;}#sk-container-id-2 div.sk-item {position: relative;z-index: 1;}#sk-container-id-2 div.sk-parallel {display: flex;align-items: stretch;justify-content: center;background-color: white;position: relative;}#sk-container-id-2 div.sk-item::before, #sk-container-id-2 div.sk-parallel-item::before {content: \"\";position: absolute;border-left: 1px solid gray;box-sizing: border-box;top: 0;bottom: 0;left: 50%;z-index: -1;}#sk-container-id-2 div.sk-parallel-item {display: flex;flex-direction: column;z-index: 1;position: relative;background-color: white;}#sk-container-id-2 div.sk-parallel-item:first-child::after {align-self: flex-end;width: 50%;}#sk-container-id-2 div.sk-parallel-item:last-child::after {align-self: flex-start;width: 50%;}#sk-container-id-2 div.sk-parallel-item:only-child::after {width: 0;}#sk-container-id-2 div.sk-dashed-wrapped {border: 1px dashed gray;margin: 0 0.4em 0.5em 0.4em;box-sizing: border-box;padding-bottom: 0.4em;background-color: white;}#sk-container-id-2 div.sk-label label {font-family: monospace;font-weight: bold;display: inline-block;line-height: 1.2em;}#sk-container-id-2 div.sk-label-container {text-align: center;}#sk-container-id-2 div.sk-container {/* jupyter's `normalize.less` sets `[hidden] { display: none; }` but bootstrap.min.css set `[hidden] { display: none !important; }` so we also need the `!important` here to be able to override the default hidden behavior on the sphinx rendered scikit-learn.org. See: https://github.com/scikit-learn/scikit-learn/issues/21755 */display: inline-block !important;position: relative;}#sk-container-id-2 div.sk-text-repr-fallback {display: none;}</style><div id=\"sk-container-id-2\" class=\"sk-top-container\"><div class=\"sk-text-repr-fallback\"><pre>LinearRegression()</pre><b>In a Jupyter environment, please rerun this cell to show the HTML representation or trust the notebook. <br />On GitHub, the HTML representation is unable to render, please try loading this page with nbviewer.org.</b></div><div class=\"sk-container\" hidden><div class=\"sk-item\"><div class=\"sk-estimator sk-toggleable\"><input class=\"sk-toggleable__control sk-hidden--visually\" id=\"sk-estimator-id-2\" type=\"checkbox\" checked><label for=\"sk-estimator-id-2\" class=\"sk-toggleable__label sk-toggleable__label-arrow\">LinearRegression</label><div class=\"sk-toggleable__content\"><pre>LinearRegression()</pre></div></div></div></div></div>"
            ]
          },
          "metadata": {},
          "execution_count": 22
        }
      ]
    },
    {
      "cell_type": "markdown",
      "source": [
        "In this step, we are finding the prediction using the trained model of linear regression using the inputs X for training and test sets and compare the prediction (output) values with the target values Y we have beforehand."
      ],
      "metadata": {
        "id": "6haI2gTIGIXK"
      }
    },
    {
      "cell_type": "code",
      "source": [
        "Y_train_pred_linreg = lin_model.predict(X_train)\n",
        "MAE_train_linreg = mean_absolute_error(Y_train, Y_train_pred_linreg)\n",
        "print(\"Linear Regression Output:-\")\n",
        "print(\"The MAE on training set is Rs. {:.2f}\".format(MAE_train_linreg))\n",
        "\n",
        "Y_test_pred_linreg = lin_model.predict(X_test)\n",
        "MAE_test_linreg = mean_absolute_error(Y_test, Y_test_pred_linreg)\n",
        "print(\"The MAE on testing set is Rs. {:.2f}\".format(MAE_test_linreg))"
      ],
      "metadata": {
        "colab": {
          "base_uri": "https://localhost:8080/"
        },
        "id": "eCG_n66e5v2W",
        "outputId": "698619b1-9791-40ea-c026-1f80540ebce5"
      },
      "execution_count": 23,
      "outputs": [
        {
          "output_type": "stream",
          "name": "stdout",
          "text": [
            "Linear Regression Output:-\n",
            "The MAE on training set is Rs. 14583.30\n",
            "The MAE on testing set is Rs. 26042.18\n"
          ]
        }
      ]
    },
    {
      "cell_type": "markdown",
      "source": [
        "### **Random Forest**"
      ],
      "metadata": {
        "id": "ER3UJ-l62WSt"
      }
    },
    {
      "cell_type": "markdown",
      "source": [
        "In this model, we will use scikit-learn to model the data using Random Forest. In this step, we are defining the *RandomForestRegressor()* model and then fitting it to the training set.\n",
        "The *n_estimators* denotes the number of decision trees used in the model and *min_samples_leaf* is minimum number of samples in a leaf."
      ],
      "metadata": {
        "id": "5LZOunQKD_7D"
      }
    },
    {
      "cell_type": "code",
      "source": [
        "model_RF = RandomForestRegressor(n_estimators=100, min_samples_leaf=1)\n",
        "Y_train_RF = Y_train.reshape(-1)\n",
        "Y_test_RF = Y_test.reshape(-1)\n",
        "model_RF.fit(X_train, Y_train_RF)"
      ],
      "metadata": {
        "colab": {
          "base_uri": "https://localhost:8080/",
          "height": 75
        },
        "id": "ziS-tIYr2bCq",
        "outputId": "0605d106-351e-4d10-86b6-670be4b8e448"
      },
      "execution_count": 24,
      "outputs": [
        {
          "output_type": "execute_result",
          "data": {
            "text/plain": [
              "RandomForestRegressor()"
            ],
            "text/html": [
              "<style>#sk-container-id-3 {color: black;background-color: white;}#sk-container-id-3 pre{padding: 0;}#sk-container-id-3 div.sk-toggleable {background-color: white;}#sk-container-id-3 label.sk-toggleable__label {cursor: pointer;display: block;width: 100%;margin-bottom: 0;padding: 0.3em;box-sizing: border-box;text-align: center;}#sk-container-id-3 label.sk-toggleable__label-arrow:before {content: \"▸\";float: left;margin-right: 0.25em;color: #696969;}#sk-container-id-3 label.sk-toggleable__label-arrow:hover:before {color: black;}#sk-container-id-3 div.sk-estimator:hover label.sk-toggleable__label-arrow:before {color: black;}#sk-container-id-3 div.sk-toggleable__content {max-height: 0;max-width: 0;overflow: hidden;text-align: left;background-color: #f0f8ff;}#sk-container-id-3 div.sk-toggleable__content pre {margin: 0.2em;color: black;border-radius: 0.25em;background-color: #f0f8ff;}#sk-container-id-3 input.sk-toggleable__control:checked~div.sk-toggleable__content {max-height: 200px;max-width: 100%;overflow: auto;}#sk-container-id-3 input.sk-toggleable__control:checked~label.sk-toggleable__label-arrow:before {content: \"▾\";}#sk-container-id-3 div.sk-estimator input.sk-toggleable__control:checked~label.sk-toggleable__label {background-color: #d4ebff;}#sk-container-id-3 div.sk-label input.sk-toggleable__control:checked~label.sk-toggleable__label {background-color: #d4ebff;}#sk-container-id-3 input.sk-hidden--visually {border: 0;clip: rect(1px 1px 1px 1px);clip: rect(1px, 1px, 1px, 1px);height: 1px;margin: -1px;overflow: hidden;padding: 0;position: absolute;width: 1px;}#sk-container-id-3 div.sk-estimator {font-family: monospace;background-color: #f0f8ff;border: 1px dotted black;border-radius: 0.25em;box-sizing: border-box;margin-bottom: 0.5em;}#sk-container-id-3 div.sk-estimator:hover {background-color: #d4ebff;}#sk-container-id-3 div.sk-parallel-item::after {content: \"\";width: 100%;border-bottom: 1px solid gray;flex-grow: 1;}#sk-container-id-3 div.sk-label:hover label.sk-toggleable__label {background-color: #d4ebff;}#sk-container-id-3 div.sk-serial::before {content: \"\";position: absolute;border-left: 1px solid gray;box-sizing: border-box;top: 0;bottom: 0;left: 50%;z-index: 0;}#sk-container-id-3 div.sk-serial {display: flex;flex-direction: column;align-items: center;background-color: white;padding-right: 0.2em;padding-left: 0.2em;position: relative;}#sk-container-id-3 div.sk-item {position: relative;z-index: 1;}#sk-container-id-3 div.sk-parallel {display: flex;align-items: stretch;justify-content: center;background-color: white;position: relative;}#sk-container-id-3 div.sk-item::before, #sk-container-id-3 div.sk-parallel-item::before {content: \"\";position: absolute;border-left: 1px solid gray;box-sizing: border-box;top: 0;bottom: 0;left: 50%;z-index: -1;}#sk-container-id-3 div.sk-parallel-item {display: flex;flex-direction: column;z-index: 1;position: relative;background-color: white;}#sk-container-id-3 div.sk-parallel-item:first-child::after {align-self: flex-end;width: 50%;}#sk-container-id-3 div.sk-parallel-item:last-child::after {align-self: flex-start;width: 50%;}#sk-container-id-3 div.sk-parallel-item:only-child::after {width: 0;}#sk-container-id-3 div.sk-dashed-wrapped {border: 1px dashed gray;margin: 0 0.4em 0.5em 0.4em;box-sizing: border-box;padding-bottom: 0.4em;background-color: white;}#sk-container-id-3 div.sk-label label {font-family: monospace;font-weight: bold;display: inline-block;line-height: 1.2em;}#sk-container-id-3 div.sk-label-container {text-align: center;}#sk-container-id-3 div.sk-container {/* jupyter's `normalize.less` sets `[hidden] { display: none; }` but bootstrap.min.css set `[hidden] { display: none !important; }` so we also need the `!important` here to be able to override the default hidden behavior on the sphinx rendered scikit-learn.org. See: https://github.com/scikit-learn/scikit-learn/issues/21755 */display: inline-block !important;position: relative;}#sk-container-id-3 div.sk-text-repr-fallback {display: none;}</style><div id=\"sk-container-id-3\" class=\"sk-top-container\"><div class=\"sk-text-repr-fallback\"><pre>RandomForestRegressor()</pre><b>In a Jupyter environment, please rerun this cell to show the HTML representation or trust the notebook. <br />On GitHub, the HTML representation is unable to render, please try loading this page with nbviewer.org.</b></div><div class=\"sk-container\" hidden><div class=\"sk-item\"><div class=\"sk-estimator sk-toggleable\"><input class=\"sk-toggleable__control sk-hidden--visually\" id=\"sk-estimator-id-3\" type=\"checkbox\" checked><label for=\"sk-estimator-id-3\" class=\"sk-toggleable__label sk-toggleable__label-arrow\">RandomForestRegressor</label><div class=\"sk-toggleable__content\"><pre>RandomForestRegressor()</pre></div></div></div></div></div>"
            ]
          },
          "metadata": {},
          "execution_count": 24
        }
      ]
    },
    {
      "cell_type": "markdown",
      "source": [
        "The accuracy on training and test sets is printed below. It can be seen that the model is overfitting the data. However, after tuning the parameters for Random Forest, any significant improvement is not observed in performance."
      ],
      "metadata": {
        "id": "R6V6pqYlF71y"
      }
    },
    {
      "cell_type": "code",
      "source": [
        "print(\"Random Forest Output:-\")\n",
        "print(\"The accuracy on training set is {:.2f} %\".format(model_RF.score(X_train, Y_train_RF)*100))\n",
        "print(\"The accuracy on testing set is {:.2f} %\".format(model_RF.score(X_test, Y_test_RF)*100))"
      ],
      "metadata": {
        "colab": {
          "base_uri": "https://localhost:8080/"
        },
        "id": "fAqANr9c2l8S",
        "outputId": "c9ac83a4-509a-4ce2-b138-2c8c339c3cbf"
      },
      "execution_count": 25,
      "outputs": [
        {
          "output_type": "stream",
          "name": "stdout",
          "text": [
            "Random Forest Output:-\n",
            "The accuracy on training set is 95.50 %\n",
            "The accuracy on testing set is 23.13 %\n"
          ]
        }
      ]
    },
    {
      "cell_type": "markdown",
      "source": [
        "Even the MAE indicates that the cost function is higher for test set as compared to training set."
      ],
      "metadata": {
        "id": "Qwy8xo_jInON"
      }
    },
    {
      "cell_type": "code",
      "source": [
        "Y_train_pred_RF = model_RF.predict(X_train)\n",
        "MAE_train_RF = mean_absolute_error(Y_train, Y_train_pred_RF)\n",
        "print(\"The MAE on training set is Rs. {:.2f}\".format(MAE_train_RF))\n",
        "\n",
        "Y_test_pred_RF = model_RF.predict(X_test)\n",
        "MAE_test_RF = mean_absolute_error(Y_test, Y_test_pred_RF)\n",
        "print(\"The MAE on testing set is Rs. {:.2f}\".format(MAE_test_RF))"
      ],
      "metadata": {
        "colab": {
          "base_uri": "https://localhost:8080/"
        },
        "id": "kvUeP_-F3Fjg",
        "outputId": "1f5f925f-7262-4530-8e79-3421797828cd"
      },
      "execution_count": 26,
      "outputs": [
        {
          "output_type": "stream",
          "name": "stdout",
          "text": [
            "The MAE on training set is Rs. 4136.87\n",
            "The MAE on testing set is Rs. 15521.31\n"
          ]
        }
      ]
    },
    {
      "cell_type": "markdown",
      "source": [
        "### **XGBoost**"
      ],
      "metadata": {
        "id": "YdLvXDuOsBO1"
      }
    },
    {
      "cell_type": "markdown",
      "source": [
        "In this model, we will use scikit-learn to model the data using XGBoost. In this step, we are defining the XGBRegressor() model and then fitting it to the training set."
      ],
      "metadata": {
        "id": "AiIuDa5OJbc-"
      }
    },
    {
      "cell_type": "code",
      "source": [
        "model_XGB = XGBRegressor()\n",
        "fitted_data_XGB = model_XGB.fit(X_train, Y_train)"
      ],
      "metadata": {
        "id": "zfYQZpAmsA5o"
      },
      "execution_count": 27,
      "outputs": []
    },
    {
      "cell_type": "markdown",
      "source": [
        "The MAE using XGBoost for test set is fairly close to training set and hence, in the three models seen so far, XGBoost has best performance."
      ],
      "metadata": {
        "id": "C4vlnDJIKLq_"
      }
    },
    {
      "cell_type": "code",
      "source": [
        "Y_train_pred_XGB = model_XGB.predict(X_train)\n",
        "MAE_train_XGB = mean_absolute_error(Y_train, Y_train_pred_XGB)\n",
        "print(\"XGBoost Output:-\")\n",
        "print(\"The MAE on training set is Rs. {:.2f}\".format(MAE_train_XGB))\n",
        "\n",
        "Y_test_pred_XGB = model_XGB.predict(X_test)\n",
        "MAE_test_XGB = mean_absolute_error(Y_test, Y_test_pred_XGB)\n",
        "print(\"The MAE on testing set is Rs. {:.2f}\".format(MAE_test_XGB))"
      ],
      "metadata": {
        "colab": {
          "base_uri": "https://localhost:8080/"
        },
        "id": "NE_QBja8u1zk",
        "outputId": "dc17b452-7bd3-40f6-91a7-deaf6a0c5108"
      },
      "execution_count": 28,
      "outputs": [
        {
          "output_type": "stream",
          "name": "stdout",
          "text": [
            "XGBoost Output:-\n",
            "The MAE on training set is Rs. 6778.11\n",
            "The MAE on testing set is Rs. 16067.20\n"
          ]
        }
      ]
    },
    {
      "cell_type": "markdown",
      "source": [
        "### **Neural Network**"
      ],
      "metadata": {
        "id": "3CMZZDP2fON5"
      }
    },
    {
      "cell_type": "markdown",
      "source": [
        "In a Neural Network model, we are using 6 hidden layers with 5 layers having ReLU activation functions and the last layer having linear activation function."
      ],
      "metadata": {
        "id": "7j-2bd-QLaGE"
      }
    },
    {
      "cell_type": "code",
      "source": [
        "model_NN = Sequential([\n",
        "    Dense(units=256, activation='relu'),\n",
        "    Dense(units=128, activation='relu'),\n",
        "    Dense(units=32, activation='relu'),\n",
        "    Dense(units=8, activation='relu'),\n",
        "    Dense(units=4, activation='relu'),\n",
        "    Dense(units=1, activation='linear'),\n",
        "])"
      ],
      "metadata": {
        "id": "fv7ane1VfUZ-"
      },
      "execution_count": 29,
      "outputs": []
    },
    {
      "cell_type": "markdown",
      "source": [
        "The model is optimized by using Adam Optimizer with an initial learning rate of 0.0005, and the loss function is Mean Squared Error. The metric used is accuracy for optimizers."
      ],
      "metadata": {
        "id": "oMnvJfS0MEw3"
      }
    },
    {
      "cell_type": "code",
      "source": [
        "model_NN.compile(optimizer=tf.keras.optimizers.Adam(learning_rate=1e-3), loss=MeanSquaredError())"
      ],
      "metadata": {
        "id": "l-RyXVK1fYgd"
      },
      "execution_count": 30,
      "outputs": []
    },
    {
      "cell_type": "markdown",
      "source": [
        "The model is now fitted on the training set, with 150 epochs. The learning rate and number of epochs is tuned for achieving higher performance."
      ],
      "metadata": {
        "id": "2OnQlSdwMqaF"
      }
    },
    {
      "cell_type": "code",
      "source": [
        "n_epoch = 150\n",
        "fitted_data_NN = model_NN.fit(X_train, Y_train, epochs=n_epoch)"
      ],
      "metadata": {
        "colab": {
          "base_uri": "https://localhost:8080/"
        },
        "id": "vASPFGEXfav0",
        "outputId": "c59928d9-ae3c-4c69-8adf-8bbb36840c0d"
      },
      "execution_count": 31,
      "outputs": [
        {
          "output_type": "stream",
          "name": "stdout",
          "text": [
            "Epoch 1/150\n",
            "119/119 [==============================] - 2s 4ms/step - loss: 4199335936.0000\n",
            "Epoch 2/150\n",
            "119/119 [==============================] - 1s 5ms/step - loss: 2637669632.0000\n",
            "Epoch 3/150\n",
            "119/119 [==============================] - 1s 5ms/step - loss: 2344849920.0000\n",
            "Epoch 4/150\n",
            "119/119 [==============================] - 1s 5ms/step - loss: 2337231104.0000\n",
            "Epoch 5/150\n",
            "119/119 [==============================] - 0s 3ms/step - loss: 2336789248.0000\n",
            "Epoch 6/150\n",
            "119/119 [==============================] - 0s 4ms/step - loss: 2330461440.0000\n",
            "Epoch 7/150\n",
            "119/119 [==============================] - 0s 3ms/step - loss: 2335604736.0000\n",
            "Epoch 8/150\n",
            "119/119 [==============================] - 0s 3ms/step - loss: 2330961920.0000\n",
            "Epoch 9/150\n",
            "119/119 [==============================] - 0s 3ms/step - loss: 2325350912.0000\n",
            "Epoch 10/150\n",
            "119/119 [==============================] - 0s 3ms/step - loss: 2323876352.0000\n",
            "Epoch 11/150\n",
            "119/119 [==============================] - 0s 3ms/step - loss: 2328523520.0000\n",
            "Epoch 12/150\n",
            "119/119 [==============================] - 0s 3ms/step - loss: 2315964672.0000\n",
            "Epoch 13/150\n",
            "119/119 [==============================] - 0s 3ms/step - loss: 2315593216.0000\n",
            "Epoch 14/150\n",
            "119/119 [==============================] - 0s 3ms/step - loss: 2305218560.0000\n",
            "Epoch 15/150\n",
            "119/119 [==============================] - 0s 3ms/step - loss: 2311798272.0000\n",
            "Epoch 16/150\n",
            "119/119 [==============================] - 0s 3ms/step - loss: 2312526848.0000\n",
            "Epoch 17/150\n",
            "119/119 [==============================] - 0s 3ms/step - loss: 2304741120.0000\n",
            "Epoch 18/150\n",
            "119/119 [==============================] - 0s 3ms/step - loss: 2306547968.0000\n",
            "Epoch 19/150\n",
            "119/119 [==============================] - 0s 3ms/step - loss: 2304366336.0000\n",
            "Epoch 20/150\n",
            "119/119 [==============================] - 0s 3ms/step - loss: 2301358080.0000\n",
            "Epoch 21/150\n",
            "119/119 [==============================] - 0s 3ms/step - loss: 2295216896.0000\n",
            "Epoch 22/150\n",
            "119/119 [==============================] - 0s 4ms/step - loss: 2286321920.0000\n",
            "Epoch 23/150\n",
            "119/119 [==============================] - 1s 5ms/step - loss: 2291137280.0000\n",
            "Epoch 24/150\n",
            "119/119 [==============================] - 1s 5ms/step - loss: 2278077696.0000\n",
            "Epoch 25/150\n",
            "119/119 [==============================] - 0s 4ms/step - loss: 2273470976.0000\n",
            "Epoch 26/150\n",
            "119/119 [==============================] - 0s 3ms/step - loss: 2262818048.0000\n",
            "Epoch 27/150\n",
            "119/119 [==============================] - 0s 3ms/step - loss: 2266199552.0000\n",
            "Epoch 28/150\n",
            "119/119 [==============================] - 0s 3ms/step - loss: 2267857920.0000\n",
            "Epoch 29/150\n",
            "119/119 [==============================] - 0s 3ms/step - loss: 2244910848.0000\n",
            "Epoch 30/150\n",
            "119/119 [==============================] - 0s 3ms/step - loss: 2237580288.0000\n",
            "Epoch 31/150\n",
            "119/119 [==============================] - 0s 3ms/step - loss: 2232520448.0000\n",
            "Epoch 32/150\n",
            "119/119 [==============================] - 0s 3ms/step - loss: 2220416512.0000\n",
            "Epoch 33/150\n",
            "119/119 [==============================] - 0s 3ms/step - loss: 2214584064.0000\n",
            "Epoch 34/150\n",
            "119/119 [==============================] - 0s 3ms/step - loss: 2196659200.0000\n",
            "Epoch 35/150\n",
            "119/119 [==============================] - 0s 3ms/step - loss: 2188781824.0000\n",
            "Epoch 36/150\n",
            "119/119 [==============================] - 0s 4ms/step - loss: 2160773888.0000\n",
            "Epoch 37/150\n",
            "119/119 [==============================] - 0s 3ms/step - loss: 2140829952.0000\n",
            "Epoch 38/150\n",
            "119/119 [==============================] - 0s 3ms/step - loss: 2113948800.0000\n",
            "Epoch 39/150\n",
            "119/119 [==============================] - 0s 3ms/step - loss: 2092949248.0000\n",
            "Epoch 40/150\n",
            "119/119 [==============================] - 0s 3ms/step - loss: 2039779072.0000\n",
            "Epoch 41/150\n",
            "119/119 [==============================] - 0s 3ms/step - loss: 1960163968.0000\n",
            "Epoch 42/150\n",
            "119/119 [==============================] - 0s 4ms/step - loss: 1717921536.0000\n",
            "Epoch 43/150\n",
            "119/119 [==============================] - 0s 4ms/step - loss: 1476019840.0000\n",
            "Epoch 44/150\n",
            "119/119 [==============================] - 1s 5ms/step - loss: 1505547904.0000\n",
            "Epoch 45/150\n",
            "119/119 [==============================] - 1s 5ms/step - loss: 1382453888.0000\n",
            "Epoch 46/150\n",
            "119/119 [==============================] - 1s 4ms/step - loss: 1333975936.0000\n",
            "Epoch 47/150\n",
            "119/119 [==============================] - 0s 3ms/step - loss: 1294426880.0000\n",
            "Epoch 48/150\n",
            "119/119 [==============================] - 0s 3ms/step - loss: 1387122944.0000\n",
            "Epoch 49/150\n",
            "119/119 [==============================] - 0s 3ms/step - loss: 1314293376.0000\n",
            "Epoch 50/150\n",
            "119/119 [==============================] - 0s 3ms/step - loss: 1286639360.0000\n",
            "Epoch 51/150\n",
            "119/119 [==============================] - 0s 3ms/step - loss: 1282503552.0000\n",
            "Epoch 52/150\n",
            "119/119 [==============================] - 0s 3ms/step - loss: 1250694656.0000\n",
            "Epoch 53/150\n",
            "119/119 [==============================] - 0s 3ms/step - loss: 1277500032.0000\n",
            "Epoch 54/150\n",
            "119/119 [==============================] - 0s 3ms/step - loss: 1288579072.0000\n",
            "Epoch 55/150\n",
            "119/119 [==============================] - 0s 3ms/step - loss: 1244693888.0000\n",
            "Epoch 56/150\n",
            "119/119 [==============================] - 0s 3ms/step - loss: 1181601664.0000\n",
            "Epoch 57/150\n",
            "119/119 [==============================] - 0s 3ms/step - loss: 1323371008.0000\n",
            "Epoch 58/150\n",
            "119/119 [==============================] - 0s 3ms/step - loss: 1233848960.0000\n",
            "Epoch 59/150\n",
            "119/119 [==============================] - 0s 3ms/step - loss: 1246966784.0000\n",
            "Epoch 60/150\n",
            "119/119 [==============================] - 0s 3ms/step - loss: 1176378624.0000\n",
            "Epoch 61/150\n",
            "119/119 [==============================] - 0s 3ms/step - loss: 1260486400.0000\n",
            "Epoch 62/150\n",
            "119/119 [==============================] - 0s 3ms/step - loss: 1155835392.0000\n",
            "Epoch 63/150\n",
            "119/119 [==============================] - 0s 3ms/step - loss: 1140669312.0000\n",
            "Epoch 64/150\n",
            "119/119 [==============================] - 0s 3ms/step - loss: 1200723072.0000\n",
            "Epoch 65/150\n",
            "119/119 [==============================] - 0s 3ms/step - loss: 1134780800.0000\n",
            "Epoch 66/150\n",
            "119/119 [==============================] - 0s 3ms/step - loss: 1149593856.0000\n",
            "Epoch 67/150\n",
            "119/119 [==============================] - 0s 4ms/step - loss: 1144040576.0000\n",
            "Epoch 68/150\n",
            "119/119 [==============================] - 1s 5ms/step - loss: 1119950976.0000\n",
            "Epoch 69/150\n",
            "119/119 [==============================] - 1s 4ms/step - loss: 1143123072.0000\n",
            "Epoch 70/150\n",
            "119/119 [==============================] - 1s 5ms/step - loss: 1134058112.0000\n",
            "Epoch 71/150\n",
            "119/119 [==============================] - 0s 3ms/step - loss: 1142188288.0000\n",
            "Epoch 72/150\n",
            "119/119 [==============================] - 0s 3ms/step - loss: 1103139072.0000\n",
            "Epoch 73/150\n",
            "119/119 [==============================] - 0s 3ms/step - loss: 1105465088.0000\n",
            "Epoch 74/150\n",
            "119/119 [==============================] - 0s 3ms/step - loss: 1109566720.0000\n",
            "Epoch 75/150\n",
            "119/119 [==============================] - 0s 3ms/step - loss: 1178938240.0000\n",
            "Epoch 76/150\n",
            "119/119 [==============================] - 0s 3ms/step - loss: 1186403968.0000\n",
            "Epoch 77/150\n",
            "119/119 [==============================] - 0s 4ms/step - loss: 1050865344.0000\n",
            "Epoch 78/150\n",
            "119/119 [==============================] - 0s 3ms/step - loss: 1081522688.0000\n",
            "Epoch 79/150\n",
            "119/119 [==============================] - 0s 3ms/step - loss: 1093688192.0000\n",
            "Epoch 80/150\n",
            "119/119 [==============================] - 0s 3ms/step - loss: 1076778112.0000\n",
            "Epoch 81/150\n",
            "119/119 [==============================] - 0s 3ms/step - loss: 1085498240.0000\n",
            "Epoch 82/150\n",
            "119/119 [==============================] - 0s 3ms/step - loss: 1124734848.0000\n",
            "Epoch 83/150\n",
            "119/119 [==============================] - 0s 3ms/step - loss: 1056965376.0000\n",
            "Epoch 84/150\n",
            "119/119 [==============================] - 0s 3ms/step - loss: 1047782336.0000\n",
            "Epoch 85/150\n",
            "119/119 [==============================] - 0s 3ms/step - loss: 1063261440.0000\n",
            "Epoch 86/150\n",
            "119/119 [==============================] - 0s 3ms/step - loss: 1039599936.0000\n",
            "Epoch 87/150\n",
            "119/119 [==============================] - 0s 3ms/step - loss: 1090274688.0000\n",
            "Epoch 88/150\n",
            "119/119 [==============================] - 0s 3ms/step - loss: 1140272640.0000\n",
            "Epoch 89/150\n",
            "119/119 [==============================] - 0s 3ms/step - loss: 1047622464.0000\n",
            "Epoch 90/150\n",
            "119/119 [==============================] - 0s 3ms/step - loss: 1077461760.0000\n",
            "Epoch 91/150\n",
            "119/119 [==============================] - 1s 5ms/step - loss: 978618880.0000\n",
            "Epoch 92/150\n",
            "119/119 [==============================] - 1s 5ms/step - loss: 973350912.0000\n",
            "Epoch 93/150\n",
            "119/119 [==============================] - 1s 5ms/step - loss: 984077056.0000\n",
            "Epoch 94/150\n",
            "119/119 [==============================] - 0s 4ms/step - loss: 1016054400.0000\n",
            "Epoch 95/150\n",
            "119/119 [==============================] - 0s 3ms/step - loss: 1054518016.0000\n",
            "Epoch 96/150\n",
            "119/119 [==============================] - 0s 3ms/step - loss: 1025602880.0000\n",
            "Epoch 97/150\n",
            "119/119 [==============================] - 0s 3ms/step - loss: 1008580736.0000\n",
            "Epoch 98/150\n",
            "119/119 [==============================] - 0s 3ms/step - loss: 1027782144.0000\n",
            "Epoch 99/150\n",
            "119/119 [==============================] - 0s 4ms/step - loss: 1019922816.0000\n",
            "Epoch 100/150\n",
            "119/119 [==============================] - 0s 3ms/step - loss: 984268480.0000\n",
            "Epoch 101/150\n",
            "119/119 [==============================] - 0s 3ms/step - loss: 1008012160.0000\n",
            "Epoch 102/150\n",
            "119/119 [==============================] - 0s 3ms/step - loss: 995464384.0000\n",
            "Epoch 103/150\n",
            "119/119 [==============================] - 0s 3ms/step - loss: 975645504.0000\n",
            "Epoch 104/150\n",
            "119/119 [==============================] - 0s 3ms/step - loss: 965510144.0000\n",
            "Epoch 105/150\n",
            "119/119 [==============================] - 0s 3ms/step - loss: 933136704.0000\n",
            "Epoch 106/150\n",
            "119/119 [==============================] - 0s 3ms/step - loss: 986368960.0000\n",
            "Epoch 107/150\n",
            "119/119 [==============================] - 0s 3ms/step - loss: 997947904.0000\n",
            "Epoch 108/150\n",
            "119/119 [==============================] - 0s 3ms/step - loss: 983896832.0000\n",
            "Epoch 109/150\n",
            "119/119 [==============================] - 0s 3ms/step - loss: 975997568.0000\n",
            "Epoch 110/150\n",
            "119/119 [==============================] - 0s 3ms/step - loss: 926956864.0000\n",
            "Epoch 111/150\n",
            "119/119 [==============================] - 0s 3ms/step - loss: 1038764160.0000\n",
            "Epoch 112/150\n",
            "119/119 [==============================] - 0s 3ms/step - loss: 990379712.0000\n",
            "Epoch 113/150\n",
            "119/119 [==============================] - 1s 5ms/step - loss: 914135104.0000\n",
            "Epoch 114/150\n",
            "119/119 [==============================] - 1s 5ms/step - loss: 932039168.0000\n",
            "Epoch 115/150\n",
            "119/119 [==============================] - 1s 5ms/step - loss: 916795520.0000\n",
            "Epoch 116/150\n",
            "119/119 [==============================] - 0s 4ms/step - loss: 967736832.0000\n",
            "Epoch 117/150\n",
            "119/119 [==============================] - 0s 3ms/step - loss: 981768320.0000\n",
            "Epoch 118/150\n",
            "119/119 [==============================] - 0s 3ms/step - loss: 1030780736.0000\n",
            "Epoch 119/150\n",
            "119/119 [==============================] - 0s 3ms/step - loss: 968088192.0000\n",
            "Epoch 120/150\n",
            "119/119 [==============================] - 0s 4ms/step - loss: 914518848.0000\n",
            "Epoch 121/150\n",
            "119/119 [==============================] - 0s 3ms/step - loss: 925353664.0000\n",
            "Epoch 122/150\n",
            "119/119 [==============================] - 0s 4ms/step - loss: 865475712.0000\n",
            "Epoch 123/150\n",
            "119/119 [==============================] - 0s 4ms/step - loss: 899043584.0000\n",
            "Epoch 124/150\n",
            "119/119 [==============================] - 0s 3ms/step - loss: 991674944.0000\n",
            "Epoch 125/150\n",
            "119/119 [==============================] - 0s 3ms/step - loss: 930762304.0000\n",
            "Epoch 126/150\n",
            "119/119 [==============================] - 0s 4ms/step - loss: 915293184.0000\n",
            "Epoch 127/150\n",
            "119/119 [==============================] - 0s 3ms/step - loss: 952565888.0000\n",
            "Epoch 128/150\n",
            "119/119 [==============================] - 0s 3ms/step - loss: 915182272.0000\n",
            "Epoch 129/150\n",
            "119/119 [==============================] - 0s 3ms/step - loss: 932318272.0000\n",
            "Epoch 130/150\n",
            "119/119 [==============================] - 0s 3ms/step - loss: 906957376.0000\n",
            "Epoch 131/150\n",
            "119/119 [==============================] - 0s 3ms/step - loss: 883372160.0000\n",
            "Epoch 132/150\n",
            "119/119 [==============================] - 0s 3ms/step - loss: 884975552.0000\n",
            "Epoch 133/150\n",
            "119/119 [==============================] - 0s 3ms/step - loss: 860184960.0000\n",
            "Epoch 134/150\n",
            "119/119 [==============================] - 0s 3ms/step - loss: 915398592.0000\n",
            "Epoch 135/150\n",
            "119/119 [==============================] - 0s 4ms/step - loss: 865764480.0000\n",
            "Epoch 136/150\n",
            "119/119 [==============================] - 1s 5ms/step - loss: 846818752.0000\n",
            "Epoch 137/150\n",
            "119/119 [==============================] - 1s 5ms/step - loss: 845997632.0000\n",
            "Epoch 138/150\n",
            "119/119 [==============================] - 1s 5ms/step - loss: 853305088.0000\n",
            "Epoch 139/150\n",
            "119/119 [==============================] - 1s 4ms/step - loss: 830811264.0000\n",
            "Epoch 140/150\n",
            "119/119 [==============================] - 0s 3ms/step - loss: 814663488.0000\n",
            "Epoch 141/150\n",
            "119/119 [==============================] - 0s 3ms/step - loss: 827406848.0000\n",
            "Epoch 142/150\n",
            "119/119 [==============================] - 0s 4ms/step - loss: 887298240.0000\n",
            "Epoch 143/150\n",
            "119/119 [==============================] - 0s 3ms/step - loss: 814108864.0000\n",
            "Epoch 144/150\n",
            "119/119 [==============================] - 0s 4ms/step - loss: 854689344.0000\n",
            "Epoch 145/150\n",
            "119/119 [==============================] - 0s 3ms/step - loss: 965232832.0000\n",
            "Epoch 146/150\n",
            "119/119 [==============================] - 0s 3ms/step - loss: 822471808.0000\n",
            "Epoch 147/150\n",
            "119/119 [==============================] - 0s 3ms/step - loss: 808566080.0000\n",
            "Epoch 148/150\n",
            "119/119 [==============================] - 0s 3ms/step - loss: 826642368.0000\n",
            "Epoch 149/150\n",
            "119/119 [==============================] - 0s 3ms/step - loss: 852062976.0000\n",
            "Epoch 150/150\n",
            "119/119 [==============================] - 0s 4ms/step - loss: 847049216.0000\n"
          ]
        }
      ]
    },
    {
      "cell_type": "code",
      "source": [
        "model_NN.summary()"
      ],
      "metadata": {
        "colab": {
          "base_uri": "https://localhost:8080/"
        },
        "id": "siLPhDpnl_T7",
        "outputId": "f772ffd9-1da2-4810-e732-c5deb02e537c"
      },
      "execution_count": 32,
      "outputs": [
        {
          "output_type": "stream",
          "name": "stdout",
          "text": [
            "Model: \"sequential\"\n",
            "_________________________________________________________________\n",
            " Layer (type)                Output Shape              Param #   \n",
            "=================================================================\n",
            " dense (Dense)               (None, 256)               131840    \n",
            "                                                                 \n",
            " dense_1 (Dense)             (None, 128)               32896     \n",
            "                                                                 \n",
            " dense_2 (Dense)             (None, 32)                4128      \n",
            "                                                                 \n",
            " dense_3 (Dense)             (None, 8)                 264       \n",
            "                                                                 \n",
            " dense_4 (Dense)             (None, 4)                 36        \n",
            "                                                                 \n",
            " dense_5 (Dense)             (None, 1)                 5         \n",
            "                                                                 \n",
            "=================================================================\n",
            "Total params: 169,169\n",
            "Trainable params: 169,169\n",
            "Non-trainable params: 0\n",
            "_________________________________________________________________\n"
          ]
        }
      ]
    },
    {
      "cell_type": "markdown",
      "source": [
        "The MAE for Neural Network is printed below. This performance is slightly lower than XGBoost."
      ],
      "metadata": {
        "id": "LrmrOu9dNtfj"
      }
    },
    {
      "cell_type": "code",
      "source": [
        "print(\"Neural Network Output:-\")\n",
        "score_NN = model_NN.evaluate(X_test, Y_test)\n",
        "print(score_NN)\n",
        "Y_train_pred_NN = model_NN.predict(X_train)\n",
        "MAE_train_NN = mean_absolute_error(Y_train_pred_NN, Y_train)\n",
        "print(\"The MAE on training set is Rs. {:.2f}\".format(MAE_train_NN))\n",
        "Y_test_pred_NN = model_NN.predict(X_test)\n",
        "MAE_test_NN = mean_absolute_error(Y_test_pred_NN, Y_test)\n",
        "print(\"The MAE on testing set is Rs. {:.2f}\".format(MAE_test_NN))"
      ],
      "metadata": {
        "colab": {
          "base_uri": "https://localhost:8080/"
        },
        "id": "qVyoylFcmSF4",
        "outputId": "6034cbef-8ebb-4e40-8f01-0ba0cb71be7b"
      },
      "execution_count": 33,
      "outputs": [
        {
          "output_type": "stream",
          "name": "stdout",
          "text": [
            "Neural Network Output:-\n",
            "30/30 [==============================] - 0s 1ms/step - loss: 13653433344.0000\n",
            "13653433344.0\n",
            "119/119 [==============================] - 0s 1ms/step\n",
            "The MAE on training set is Rs. 10641.57\n",
            "30/30 [==============================] - 0s 1ms/step\n",
            "The MAE on testing set is Rs. 18438.05\n"
          ]
        }
      ]
    },
    {
      "cell_type": "markdown",
      "source": [
        "The cost function plot is plotted below. The cost initially monotonically decreases, and later it oscillates with small amplitude further decreasing at a slower rate."
      ],
      "metadata": {
        "id": "R-hdPmWWOBhk"
      }
    },
    {
      "cell_type": "code",
      "source": [
        "J = fitted_data_NN.history['loss']\n",
        "plt.plot(J)\n",
        "plt.title('Cost Function Plot')\n",
        "plt.xlabel('Iteration')\n",
        "plt.ylabel('Cost Function J')\n",
        "print(\"The final cost function value of training set is {}\".format(J[-1]))"
      ],
      "metadata": {
        "colab": {
          "base_uri": "https://localhost:8080/",
          "height": 312
        },
        "id": "C2y2nCcboivB",
        "outputId": "6b43442e-f1a9-4f2e-9434-7491e937cdb3"
      },
      "execution_count": 34,
      "outputs": [
        {
          "output_type": "stream",
          "name": "stdout",
          "text": [
            "The final cost function value of training set is 847049216.0\n"
          ]
        },
        {
          "output_type": "display_data",
          "data": {
            "text/plain": [
              "<Figure size 432x288 with 1 Axes>"
            ],
            "image/png": "[encoded data removed]"
          },
          "metadata": {
            "needs_background": "light"
          }
        }
      ]
    },
    {
      "cell_type": "markdown",
      "source": [
        "## **Summary**"
      ],
      "metadata": {
        "id": "MHNTxY08PrU7"
      }
    },
    {
      "cell_type": "markdown",
      "source": [
        "To summarize, the dataset is modelled using 4 different models, and the performance for these models in descending order are as follows:-\n",
        "1.   Random Forest\n",
        "2.   XGBoost\n",
        "3.   Neural Network\n",
        "4.   Linear Regression\n",
        "\n",
        "This order has been obtained after several iterations of Hyperparameter Tuning, especially for Neural Network. However, this may not be the final order because further hypertuning might change the order. The reason for this is that there is the optimum values of hyperparameters cannot be exactly found out using trying out different values.\n",
        "\n",
        "Moreover, an important inference from the accuracy of different algorithms indicates that the data is insufficient, as most of the models are overfitting."
      ],
      "metadata": {
        "id": "tE_lbvpEPyPT"
      }
    }
  ]
}
